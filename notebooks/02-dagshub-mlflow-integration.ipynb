{
 "nbformat": 4,
 "nbformat_minor": 0,
 "metadata": {
  "colab": {
   "provenance": []
  },
  "kernelspec": {
   "name": "python3",
   "display_name": "Python 3 (ipykernel)",
   "language": "python"
  },
  "language_info": {
   "name": "python"
  }
 },
 "cells": [
  {
   "metadata": {},
   "cell_type": "markdown",
   "source": "# 02-dagshub-mlflow-integration"
  },
  {
   "metadata": {},
   "cell_type": "markdown",
   "source": "## Use the DagsHub client to setup connection information for MLflow"
  },
  {
   "cell_type": "markdown",
   "metadata": {},
   "source": "https://dagshub.com/docs/integration_guide/mlflow_tracking/"
  },
  {
   "cell_type": "code",
   "source": [
    "import dagshub\n",
    "\n",
    "dagshub.init(repo_owner=\"informal2formal\", repo_name=\"mlflow\", mlflow=True)"
   ],
   "metadata": {
    "id": "ohogp0JhnEXW",
    "ExecuteTime": {
     "end_time": "2025-04-27T15:54:11.359301Z",
     "start_time": "2025-04-27T15:53:55.566716Z"
    }
   },
   "outputs": [
    {
     "data": {
      "text/plain": [
       "                                       \u001b[1m❗❗❗ AUTHORIZATION REQUIRED ❗❗❗\u001b[0m                                        \n"
      ],
      "text/html": [
       "<pre style=\"white-space:pre;overflow-x:auto;line-height:normal;font-family:Menlo,'DejaVu Sans Mono',consolas,'Courier New',monospace\">                                       <span style=\"font-weight: bold\">❗❗❗ AUTHORIZATION REQUIRED ❗❗❗</span>                                        \n",
       "</pre>\n"
      ]
     },
     "metadata": {},
     "output_type": "display_data"
    },
    {
     "data": {
      "text/plain": [
       "C:\\python-projects\\informal_to_formal_llm\\venv\\Lib\\site-packages\\rich\\live.py:231: UserWarning: install \n",
       "\"ipywidgets\" for Jupyter support\n",
       "  warnings.warn('install \"ipywidgets\" for Jupyter support')\n"
      ],
      "text/html": [
       "<pre style=\"white-space:pre;overflow-x:auto;line-height:normal;font-family:Menlo,'DejaVu Sans Mono',consolas,'Courier New',monospace\">C:\\python-projects\\informal_to_formal_llm\\venv\\Lib\\site-packages\\rich\\live.py:231: UserWarning: install \n",
       "\"ipywidgets\" for Jupyter support\n",
       "  warnings.warn('install \"ipywidgets\" for Jupyter support')\n",
       "</pre>\n"
      ]
     },
     "metadata": {},
     "output_type": "display_data"
    },
    {
     "name": "stdout",
     "output_type": "stream",
     "text": [
      "\n",
      "\n",
      "Open the following link in your browser to authorize the client:\n",
      "https://dagshub.com/login/oauth/authorize?state=b321e9ab-159d-4219-aa6c-c42482d53402&client_id=32b60ba385aa7cecf24046d8195a71c07dd345d9657977863b52e7748e0f0f28&middleman_request_id=22479b35881826197288a7c40d0f5009f3ea0c35a7c53149c11e2bbe63164e71\n",
      "\n",
      "\n"
     ]
    },
    {
     "data": {
      "text/plain": [],
      "text/html": [
       "<pre style=\"white-space:pre;overflow-x:auto;line-height:normal;font-family:Menlo,'DejaVu Sans Mono',consolas,'Courier New',monospace\"></pre>\n"
      ]
     },
     "metadata": {},
     "output_type": "display_data"
    },
    {
     "data": {
      "text/plain": [
       "Accessing as directtt\n"
      ],
      "text/html": [
       "<pre style=\"white-space:pre;overflow-x:auto;line-height:normal;font-family:Menlo,'DejaVu Sans Mono',consolas,'Courier New',monospace\">Accessing as directtt\n",
       "</pre>\n"
      ]
     },
     "metadata": {},
     "output_type": "display_data"
    },
    {
     "data": {
      "text/plain": [
       "Initialized MLflow to track repo \u001b[32m\"informal2formal/mlflow\"\u001b[0m\n"
      ],
      "text/html": [
       "<pre style=\"white-space:pre;overflow-x:auto;line-height:normal;font-family:Menlo,'DejaVu Sans Mono',consolas,'Courier New',monospace\">Initialized MLflow to track repo <span style=\"color: #008000; text-decoration-color: #008000\">\"informal2formal/mlflow\"</span>\n",
       "</pre>\n"
      ]
     },
     "metadata": {},
     "output_type": "display_data"
    },
    {
     "data": {
      "text/plain": [
       "Repository informal2formal/mlflow initialized!\n"
      ],
      "text/html": [
       "<pre style=\"white-space:pre;overflow-x:auto;line-height:normal;font-family:Menlo,'DejaVu Sans Mono',consolas,'Courier New',monospace\">Repository informal2formal/mlflow initialized!\n",
       "</pre>\n"
      ]
     },
     "metadata": {},
     "output_type": "display_data"
    }
   ],
   "execution_count": 2
  },
  {
   "cell_type": "markdown",
   "metadata": {},
   "source": "## Use MLflow to log params and metrics"
  },
  {
   "cell_type": "code",
   "source": [
    "import mlflow\n",
    "\n",
    "# Set experiment name\n",
    "mlflow.set_experiment(\"test_experiment\")\n",
    "\n",
    "# Start a run with a name (e.g., \"test_iteration\")\n",
    "with mlflow.start_run(run_name=\"test_iteration\"):\n",
    "    # Your training code here...\n",
    "    mlflow.log_metric(\"accuracy\", 42)\n",
    "    mlflow.log_param(\"Param name\", \"Value\")"
   ],
   "metadata": {
    "id": "doge2CeXnRX5",
    "ExecuteTime": {
     "end_time": "2025-04-27T15:56:06.261461Z",
     "start_time": "2025-04-27T15:55:57.454749Z"
    }
   },
   "outputs": [
    {
     "name": "stderr",
     "output_type": "stream",
     "text": [
      "2025/04/27 17:56:04 INFO mlflow.tracking.fluent: Experiment with name 'test_experiment' does not exist. Creating a new experiment.\n"
     ]
    },
    {
     "name": "stdout",
     "output_type": "stream",
     "text": [
      "🏃 View run test_iteration at: https://dagshub.com/informal2formal/mlflow.mlflow/#/experiments/1/runs/e302a28c38d04ce3bf1161a59b5172f4\n",
      "🧪 View experiment at: https://dagshub.com/informal2formal/mlflow.mlflow/#/experiments/1\n"
     ]
    }
   ],
   "execution_count": 3
  },
  {
   "cell_type": "markdown",
   "metadata": {},
   "source": [
    "Or turn on autologging for most popular ML frameworks,\n",
    "then run your training code without any modification!\n",
    "\n",
    "For more info and list of supported frameworks, see:\n",
    "[https://mlflow.org/docs/latest/tracking.html#automatic-logging](https://mlflow.org/docs/latest/tracking.html#automatic-logging)"
   ]
  },
  {
   "cell_type": "code",
   "source": "mlflow.autolog()",
   "metadata": {
    "id": "nJ0s-KdapD8t"
   },
   "execution_count": null,
   "outputs": []
  }
 ]
}
