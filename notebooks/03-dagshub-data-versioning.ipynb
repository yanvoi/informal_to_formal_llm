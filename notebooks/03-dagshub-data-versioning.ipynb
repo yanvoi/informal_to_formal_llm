{
 "nbformat": 4,
 "nbformat_minor": 0,
 "metadata": {
  "colab": {
   "provenance": []
  },
  "kernelspec": {
   "name": "python3",
   "display_name": "Python 3 (ipykernel)",
   "language": "python"
  },
  "language_info": {
   "name": "python"
  }
 },
 "cells": [
  {
   "metadata": {},
   "cell_type": "markdown",
   "source": "# 03-dagshub-data-versioning",
   "id": "a37e86220cc21c0f"
  },
  {
   "metadata": {},
   "cell_type": "markdown",
   "source": "## Initial data split to train, val and test sets with",
   "id": "801d5fdc721d66e8"
  },
  {
   "metadata": {
    "ExecuteTime": {
     "end_time": "2025-04-27T16:45:32.223896Z",
     "start_time": "2025-04-27T16:45:32.196891Z"
    }
   },
   "cell_type": "code",
   "source": [
    "import pandas as pd\n",
    "\n",
    "raw_df = pd.read_csv(\"../data/raw/informal_formal_synthetic_raw.csv\")\n",
    "raw_df.head()"
   ],
   "id": "d5a1c950d0d2f1d6",
   "outputs": [
    {
     "data": {
      "text/plain": [
       "                     zdanie_nieformalne  \\\n",
       "0                Siema, co tam słychać?   \n",
       "1           Trzeba to ogarnąć na jutro.   \n",
       "2  Daj znać, jak coś będziesz wiedział.   \n",
       "3          Ta fura jest mega wypasiona.   \n",
       "4             Nie kumam tej nowej apki.   \n",
       "\n",
       "                                     zdanie_formalne       model generator  \n",
       "0               Dzień dobry, jak się Pan/Pani miewa?  gemini-2.5      seba  \n",
       "1        Należy to przygotować/zrealizować do jutra.  gemini-2.5      seba  \n",
       "2  Proszę o informację, gdy tylko uzyska Pan/Pani...  gemini-2.5      seba  \n",
       "3        Ten samochód jest bardzo dobrze wyposażony.  gemini-2.5      seba  \n",
       "4        Nie rozumiem działania tej nowej aplikacji.  gemini-2.5      seba  "
      ],
      "text/html": [
       "<div>\n",
       "<style scoped>\n",
       "    .dataframe tbody tr th:only-of-type {\n",
       "        vertical-align: middle;\n",
       "    }\n",
       "\n",
       "    .dataframe tbody tr th {\n",
       "        vertical-align: top;\n",
       "    }\n",
       "\n",
       "    .dataframe thead th {\n",
       "        text-align: right;\n",
       "    }\n",
       "</style>\n",
       "<table border=\"1\" class=\"dataframe\">\n",
       "  <thead>\n",
       "    <tr style=\"text-align: right;\">\n",
       "      <th></th>\n",
       "      <th>zdanie_nieformalne</th>\n",
       "      <th>zdanie_formalne</th>\n",
       "      <th>model</th>\n",
       "      <th>generator</th>\n",
       "    </tr>\n",
       "  </thead>\n",
       "  <tbody>\n",
       "    <tr>\n",
       "      <th>0</th>\n",
       "      <td>Siema, co tam słychać?</td>\n",
       "      <td>Dzień dobry, jak się Pan/Pani miewa?</td>\n",
       "      <td>gemini-2.5</td>\n",
       "      <td>seba</td>\n",
       "    </tr>\n",
       "    <tr>\n",
       "      <th>1</th>\n",
       "      <td>Trzeba to ogarnąć na jutro.</td>\n",
       "      <td>Należy to przygotować/zrealizować do jutra.</td>\n",
       "      <td>gemini-2.5</td>\n",
       "      <td>seba</td>\n",
       "    </tr>\n",
       "    <tr>\n",
       "      <th>2</th>\n",
       "      <td>Daj znać, jak coś będziesz wiedział.</td>\n",
       "      <td>Proszę o informację, gdy tylko uzyska Pan/Pani...</td>\n",
       "      <td>gemini-2.5</td>\n",
       "      <td>seba</td>\n",
       "    </tr>\n",
       "    <tr>\n",
       "      <th>3</th>\n",
       "      <td>Ta fura jest mega wypasiona.</td>\n",
       "      <td>Ten samochód jest bardzo dobrze wyposażony.</td>\n",
       "      <td>gemini-2.5</td>\n",
       "      <td>seba</td>\n",
       "    </tr>\n",
       "    <tr>\n",
       "      <th>4</th>\n",
       "      <td>Nie kumam tej nowej apki.</td>\n",
       "      <td>Nie rozumiem działania tej nowej aplikacji.</td>\n",
       "      <td>gemini-2.5</td>\n",
       "      <td>seba</td>\n",
       "    </tr>\n",
       "  </tbody>\n",
       "</table>\n",
       "</div>"
      ]
     },
     "execution_count": 19,
     "metadata": {},
     "output_type": "execute_result"
    }
   ],
   "execution_count": 19
  },
  {
   "metadata": {
    "ExecuteTime": {
     "end_time": "2025-04-27T16:53:47.850695Z",
     "start_time": "2025-04-27T16:53:47.840528Z"
    }
   },
   "cell_type": "code",
   "source": [
    "from sklearn.model_selection import train_test_split\n",
    "\n",
    "# Split the data into train, validation, and test sets with 70/10/20 ratio\n",
    "train_df, test_val_df = train_test_split(\n",
    "    raw_df, test_size=0.3, random_state=42, stratify=raw_df[\"generator\"]\n",
    ")\n",
    "test_df, val_df = train_test_split(\n",
    "    test_val_df, test_size=1 / 3, random_state=42, stratify=test_val_df[\"generator\"]\n",
    ")\n",
    "\n",
    "train_df.shape[0] / raw_df.shape[0], val_df.shape[0] / raw_df.shape[0], test_df.shape[\n",
    "    0\n",
    "] / raw_df.shape[0]"
   ],
   "id": "b621a209c95b2b29",
   "outputs": [
    {
     "data": {
      "text/plain": [
       "(0.7, 0.1, 0.2)"
      ]
     },
     "execution_count": 36,
     "metadata": {},
     "output_type": "execute_result"
    }
   ],
   "execution_count": 36
  },
  {
   "metadata": {
    "ExecuteTime": {
     "end_time": "2025-04-27T16:53:48.788275Z",
     "start_time": "2025-04-27T16:53:48.759316Z"
    }
   },
   "cell_type": "code",
   "source": [
    "train_df[\"split\"] = \"train\"\n",
    "val_df[\"split\"] = \"val\"\n",
    "test_df[\"split\"] = \"test\"\n",
    "\n",
    "data = pd.concat([train_df, val_df, test_df]).reset_index(drop=True)\n",
    "data.to_csv(\"../data/processed/informal_formal_synthetic_v1.csv\", index=False)"
   ],
   "id": "9f0b3571d7f8f1a9",
   "outputs": [],
   "execution_count": 37
  },
  {
   "cell_type": "markdown",
   "source": [
    "## Upload dataset to DagsHub\n",
    "\n"
   ],
   "metadata": {
    "id": "EUNBejGdYMmF"
   },
   "id": "adfa0af12d9eec92"
  },
  {
   "cell_type": "code",
   "source": [
    "# Upload using the DagsHub client, to a DVC tracked folder also called \"data\".\n",
    "# Follow the instructions that appear to authorize the request.\n",
    "from dagshub import upload_files\n",
    "\n",
    "upload_files(\n",
    "    repo=\"informal2formal/mlflow\",\n",
    "    local_path=\"../data/processed\",\n",
    "    remote_path=\"synthetic_data\",\n",
    ")"
   ],
   "metadata": {
    "id": "vYv-arA5M154",
    "ExecuteTime": {
     "end_time": "2025-04-27T18:03:55.904532Z",
     "start_time": "2025-04-27T18:03:46.992602Z"
    }
   },
   "id": "dd73dd7c4d62249b",
   "outputs": [
    {
     "data": {
      "text/plain": [
       "C:\\python-projects\\informal_to_formal_llm\\venv\\Lib\\site-packages\\rich\\live.py:231: UserWarning: install \n",
       "\"ipywidgets\" for Jupyter support\n",
       "  warnings.warn('install \"ipywidgets\" for Jupyter support')\n"
      ],
      "text/html": [
       "<pre style=\"white-space:pre;overflow-x:auto;line-height:normal;font-family:Menlo,'DejaVu Sans Mono',consolas,'Courier New',monospace\">C:\\python-projects\\informal_to_formal_llm\\venv\\Lib\\site-packages\\rich\\live.py:231: UserWarning: install \n",
       "\"ipywidgets\" for Jupyter support\n",
       "  warnings.warn('install \"ipywidgets\" for Jupyter support')\n",
       "</pre>\n"
      ]
     },
     "metadata": {},
     "output_type": "display_data"
    },
    {
     "data": {
      "text/plain": [],
      "text/html": [
       "<pre style=\"white-space:pre;overflow-x:auto;line-height:normal;font-family:Menlo,'DejaVu Sans Mono',consolas,'Courier New',monospace\"></pre>\n"
      ]
     },
     "metadata": {},
     "output_type": "display_data"
    },
    {
     "data": {
      "text/plain": [
       "Directory upload complete, uploaded \u001B[1;36m1\u001B[0m files to \u001B[4;94mhttps://dagshub.com/informal2formal/mlflow/src/main/synthetic_data\u001B[0m\n"
      ],
      "text/html": [
       "<pre style=\"white-space:pre;overflow-x:auto;line-height:normal;font-family:Menlo,'DejaVu Sans Mono',consolas,'Courier New',monospace\">Directory upload complete, uploaded <span style=\"color: #008080; text-decoration-color: #008080; font-weight: bold\">1</span> files to <span style=\"color: #0000ff; text-decoration-color: #0000ff; text-decoration: underline\">https://dagshub.com/informal2formal/mlflow/src/main/synthetic_data</span>\n",
       "</pre>\n"
      ]
     },
     "metadata": {},
     "output_type": "display_data"
    },
    {
     "data": {
      "text/plain": [],
      "text/html": [
       "<pre style=\"white-space:pre;overflow-x:auto;line-height:normal;font-family:Menlo,'DejaVu Sans Mono',consolas,'Courier New',monospace\"></pre>\n"
      ]
     },
     "metadata": {},
     "output_type": "display_data"
    },
    {
     "data": {
      "text/plain": [
       "Directory upload complete, uploaded \u001B[1;36m2\u001B[0m files to \u001B[4;94mhttps://dagshub.com/informal2formal/mlflow/src/main/raw_data\u001B[0m\n"
      ],
      "text/html": [
       "<pre style=\"white-space:pre;overflow-x:auto;line-height:normal;font-family:Menlo,'DejaVu Sans Mono',consolas,'Courier New',monospace\">Directory upload complete, uploaded <span style=\"color: #008080; text-decoration-color: #008080; font-weight: bold\">2</span> files to <span style=\"color: #0000ff; text-decoration-color: #0000ff; text-decoration: underline\">https://dagshub.com/informal2formal/mlflow/src/main/raw_data</span>\n",
       "</pre>\n"
      ]
     },
     "metadata": {},
     "output_type": "display_data"
    }
   ],
   "execution_count": 88
  },
  {
   "cell_type": "markdown",
   "source": [
    "## Create a Data Source from the uploaded dataset\n",
    "\n"
   ],
   "metadata": {
    "id": "eEwhHrqFZYXl"
   },
   "id": "f5d9c19d61be019b"
  },
  {
   "cell_type": "code",
   "source": [
    "from dagshub.data_engine import datasources\n",
    "\n",
    "ds = datasources.create_datasource(\n",
    "    \"informal2formal/mlflow\", \"synthetic_data_source\", \"synthetic_data\"\n",
    ")"
   ],
   "metadata": {
    "id": "kebfaNVl4a2R",
    "ExecuteTime": {
     "end_time": "2025-04-27T18:18:08.606714Z",
     "start_time": "2025-04-27T18:18:07.617502Z"
    }
   },
   "id": "b7e18aa75717d2c5",
   "outputs": [],
   "execution_count": 89
  },
  {
   "cell_type": "code",
   "source": [
    "# Shortly after datasource creation, you should be able to see detected files.\n",
    "ds.head().dataframe"
   ],
   "metadata": {
    "id": "nvLp2-hpJCYr",
    "ExecuteTime": {
     "end_time": "2025-04-27T18:18:10.179843Z",
     "start_time": "2025-04-27T18:18:09.189770Z"
    }
   },
   "id": "ae69d88663ce5adb",
   "outputs": [
    {
     "data": {
      "text/plain": [
       "C:\\python-projects\\informal_to_formal_llm\\venv\\Lib\\site-packages\\rich\\live.py:231: UserWarning: install \n",
       "\"ipywidgets\" for Jupyter support\n",
       "  warnings.warn('install \"ipywidgets\" for Jupyter support')\n"
      ],
      "text/html": [
       "<pre style=\"white-space:pre;overflow-x:auto;line-height:normal;font-family:Menlo,'DejaVu Sans Mono',consolas,'Courier New',monospace\">C:\\python-projects\\informal_to_formal_llm\\venv\\Lib\\site-packages\\rich\\live.py:231: UserWarning: install \n",
       "\"ipywidgets\" for Jupyter support\n",
       "  warnings.warn('install \"ipywidgets\" for Jupyter support')\n",
       "</pre>\n"
      ]
     },
     "metadata": {},
     "output_type": "display_data"
    },
    {
     "data": {
      "text/plain": [],
      "text/html": [
       "<pre style=\"white-space:pre;overflow-x:auto;line-height:normal;font-family:Menlo,'DejaVu Sans Mono',consolas,'Courier New',monospace\"></pre>\n"
      ]
     },
     "metadata": {},
     "output_type": "display_data"
    },
    {
     "data": {
      "text/plain": [
       "                               path  datapoint_id  \\\n",
       "0  informal_formal_synthetic_v1.csv      86087877   \n",
       "\n",
       "                                dagshub_download_url  media type     size  \n",
       "0  https://dagshub.com/api/v1/repos/informal2form...  text/plain  1221781  "
      ],
      "text/html": [
       "<div>\n",
       "<style scoped>\n",
       "    .dataframe tbody tr th:only-of-type {\n",
       "        vertical-align: middle;\n",
       "    }\n",
       "\n",
       "    .dataframe tbody tr th {\n",
       "        vertical-align: top;\n",
       "    }\n",
       "\n",
       "    .dataframe thead th {\n",
       "        text-align: right;\n",
       "    }\n",
       "</style>\n",
       "<table border=\"1\" class=\"dataframe\">\n",
       "  <thead>\n",
       "    <tr style=\"text-align: right;\">\n",
       "      <th></th>\n",
       "      <th>path</th>\n",
       "      <th>datapoint_id</th>\n",
       "      <th>dagshub_download_url</th>\n",
       "      <th>media type</th>\n",
       "      <th>size</th>\n",
       "    </tr>\n",
       "  </thead>\n",
       "  <tbody>\n",
       "    <tr>\n",
       "      <th>0</th>\n",
       "      <td>informal_formal_synthetic_v1.csv</td>\n",
       "      <td>86087877</td>\n",
       "      <td>https://dagshub.com/api/v1/repos/informal2form...</td>\n",
       "      <td>text/plain</td>\n",
       "      <td>1221781</td>\n",
       "    </tr>\n",
       "  </tbody>\n",
       "</table>\n",
       "</div>"
      ]
     },
     "execution_count": 90,
     "metadata": {},
     "output_type": "execute_result"
    }
   ],
   "execution_count": 90
  },
  {
   "cell_type": "markdown",
   "source": [
    "For more information on how to use this new datasource, follow the instructions on:  \n",
    "https://dagshub.com/informal2formal/mlflow/datasets"
   ],
   "metadata": {
    "id": "RYgKGscUhZEv"
   },
   "id": "ea500cb3c7eb8fc"
  },
  {
   "metadata": {},
   "cell_type": "markdown",
   "source": "## Load the Data Source from DagsHub",
   "id": "cc56fa9753d06372"
  },
  {
   "metadata": {
    "ExecuteTime": {
     "end_time": "2025-04-27T18:18:17.414252Z",
     "start_time": "2025-04-27T18:18:16.226957Z"
    }
   },
   "cell_type": "code",
   "source": [
    "from dagshub.data_engine import datasources\n",
    "\n",
    "ds = datasources.get(\"informal2formal/mlflow\", \"synthetic_data_source\")\n",
    "ds.head().dataframe"
   ],
   "id": "8a885b61426ab90f",
   "outputs": [
    {
     "data": {
      "text/plain": [
       "C:\\python-projects\\informal_to_formal_llm\\venv\\Lib\\site-packages\\rich\\live.py:231: UserWarning: install \n",
       "\"ipywidgets\" for Jupyter support\n",
       "  warnings.warn('install \"ipywidgets\" for Jupyter support')\n"
      ],
      "text/html": [
       "<pre style=\"white-space:pre;overflow-x:auto;line-height:normal;font-family:Menlo,'DejaVu Sans Mono',consolas,'Courier New',monospace\">C:\\python-projects\\informal_to_formal_llm\\venv\\Lib\\site-packages\\rich\\live.py:231: UserWarning: install \n",
       "\"ipywidgets\" for Jupyter support\n",
       "  warnings.warn('install \"ipywidgets\" for Jupyter support')\n",
       "</pre>\n"
      ]
     },
     "metadata": {},
     "output_type": "display_data"
    },
    {
     "data": {
      "text/plain": [],
      "text/html": [
       "<pre style=\"white-space:pre;overflow-x:auto;line-height:normal;font-family:Menlo,'DejaVu Sans Mono',consolas,'Courier New',monospace\"></pre>\n"
      ]
     },
     "metadata": {},
     "output_type": "display_data"
    },
    {
     "data": {
      "text/plain": [
       "                               path  datapoint_id  \\\n",
       "0  informal_formal_synthetic_v1.csv      86087877   \n",
       "\n",
       "                                dagshub_download_url  media type     size  \n",
       "0  https://dagshub.com/api/v1/repos/informal2form...  text/plain  1221781  "
      ],
      "text/html": [
       "<div>\n",
       "<style scoped>\n",
       "    .dataframe tbody tr th:only-of-type {\n",
       "        vertical-align: middle;\n",
       "    }\n",
       "\n",
       "    .dataframe tbody tr th {\n",
       "        vertical-align: top;\n",
       "    }\n",
       "\n",
       "    .dataframe thead th {\n",
       "        text-align: right;\n",
       "    }\n",
       "</style>\n",
       "<table border=\"1\" class=\"dataframe\">\n",
       "  <thead>\n",
       "    <tr style=\"text-align: right;\">\n",
       "      <th></th>\n",
       "      <th>path</th>\n",
       "      <th>datapoint_id</th>\n",
       "      <th>dagshub_download_url</th>\n",
       "      <th>media type</th>\n",
       "      <th>size</th>\n",
       "    </tr>\n",
       "  </thead>\n",
       "  <tbody>\n",
       "    <tr>\n",
       "      <th>0</th>\n",
       "      <td>informal_formal_synthetic_v1.csv</td>\n",
       "      <td>86087877</td>\n",
       "      <td>https://dagshub.com/api/v1/repos/informal2form...</td>\n",
       "      <td>text/plain</td>\n",
       "      <td>1221781</td>\n",
       "    </tr>\n",
       "  </tbody>\n",
       "</table>\n",
       "</div>"
      ]
     },
     "execution_count": 91,
     "metadata": {},
     "output_type": "execute_result"
    }
   ],
   "execution_count": 91
  },
  {
   "metadata": {
    "ExecuteTime": {
     "end_time": "2025-04-27T18:18:43.636889Z",
     "start_time": "2025-04-27T18:18:42.316062Z"
    }
   },
   "cell_type": "code",
   "source": [
    "df = pd.read_csv(ds.head().dataframe[\"dagshub_download_url\"].values[0])\n",
    "df[\"split\"].value_counts()"
   ],
   "id": "9d17c82e74b2d326",
   "outputs": [
    {
     "data": {
      "text/plain": [
       "C:\\python-projects\\informal_to_formal_llm\\venv\\Lib\\site-packages\\rich\\live.py:231: UserWarning: install \n",
       "\"ipywidgets\" for Jupyter support\n",
       "  warnings.warn('install \"ipywidgets\" for Jupyter support')\n"
      ],
      "text/html": [
       "<pre style=\"white-space:pre;overflow-x:auto;line-height:normal;font-family:Menlo,'DejaVu Sans Mono',consolas,'Courier New',monospace\">C:\\python-projects\\informal_to_formal_llm\\venv\\Lib\\site-packages\\rich\\live.py:231: UserWarning: install \n",
       "\"ipywidgets\" for Jupyter support\n",
       "  warnings.warn('install \"ipywidgets\" for Jupyter support')\n",
       "</pre>\n"
      ]
     },
     "metadata": {},
     "output_type": "display_data"
    },
    {
     "data": {
      "text/plain": [],
      "text/html": [
       "<pre style=\"white-space:pre;overflow-x:auto;line-height:normal;font-family:Menlo,'DejaVu Sans Mono',consolas,'Courier New',monospace\"></pre>\n"
      ]
     },
     "metadata": {},
     "output_type": "display_data"
    },
    {
     "data": {
      "text/plain": [
       "split\n",
       "train    2450\n",
       "test      700\n",
       "val       350\n",
       "Name: count, dtype: int64"
      ]
     },
     "execution_count": 93,
     "metadata": {},
     "output_type": "execute_result"
    }
   ],
   "execution_count": 93
  }
 ]
}
